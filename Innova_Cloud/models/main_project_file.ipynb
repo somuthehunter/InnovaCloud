{
 "cells": [
  {
   "cell_type": "code",
   "execution_count": 1,
   "id": "103f7afc",
   "metadata": {},
   "outputs": [],
   "source": [
    "import numpy as np \n",
    "import pandas as pd \n",
    "import matplotlib.pyplot as plt "
   ]
  },
  {
   "cell_type": "code",
   "execution_count": 2,
   "id": "0ec5a50b",
   "metadata": {},
   "outputs": [],
   "source": [
    "#load the data \n",
    "data = pd.read_csv('data_main.csv')"
   ]
  },
  {
   "cell_type": "code",
   "execution_count": 3,
   "id": "a4194fd5",
   "metadata": {},
   "outputs": [
    {
     "data": {
      "text/plain": [
       "(8784, 9)"
      ]
     },
     "execution_count": 3,
     "metadata": {},
     "output_type": "execute_result"
    }
   ],
   "source": [
    "data.shape"
   ]
  },
  {
   "cell_type": "code",
   "execution_count": 4,
   "id": "91b3267b",
   "metadata": {},
   "outputs": [
    {
     "data": {
      "text/html": [
       "<div>\n",
       "<style scoped>\n",
       "    .dataframe tbody tr th:only-of-type {\n",
       "        vertical-align: middle;\n",
       "    }\n",
       "\n",
       "    .dataframe tbody tr th {\n",
       "        vertical-align: top;\n",
       "    }\n",
       "\n",
       "    .dataframe thead th {\n",
       "        text-align: right;\n",
       "    }\n",
       "</style>\n",
       "<table border=\"1\" class=\"dataframe\">\n",
       "  <thead>\n",
       "    <tr style=\"text-align: right;\">\n",
       "      <th></th>\n",
       "      <th>Date/Time</th>\n",
       "      <th>Temp_C</th>\n",
       "      <th>Dew Point Temp_C</th>\n",
       "      <th>Rel Hum_%</th>\n",
       "      <th>Wind Speed_km/h</th>\n",
       "      <th>Visibility_km</th>\n",
       "      <th>Press_kPa</th>\n",
       "      <th>Weather</th>\n",
       "      <th>rain</th>\n",
       "    </tr>\n",
       "  </thead>\n",
       "  <tbody>\n",
       "    <tr>\n",
       "      <th>7463</th>\n",
       "      <td>11/6/2012 23:00</td>\n",
       "      <td>-1.5</td>\n",
       "      <td>-6.4</td>\n",
       "      <td>69</td>\n",
       "      <td>6</td>\n",
       "      <td>25.0</td>\n",
       "      <td>101.96</td>\n",
       "      <td>1</td>\n",
       "      <td>30.1635</td>\n",
       "    </tr>\n",
       "    <tr>\n",
       "      <th>4532</th>\n",
       "      <td>7/7/2012 20:00</td>\n",
       "      <td>25.5</td>\n",
       "      <td>14.5</td>\n",
       "      <td>51</td>\n",
       "      <td>9</td>\n",
       "      <td>48.3</td>\n",
       "      <td>100.43</td>\n",
       "      <td>2</td>\n",
       "      <td>221.4050</td>\n",
       "    </tr>\n",
       "    <tr>\n",
       "      <th>4580</th>\n",
       "      <td>7/9/2012 20:00</td>\n",
       "      <td>19.5</td>\n",
       "      <td>7.9</td>\n",
       "      <td>47</td>\n",
       "      <td>7</td>\n",
       "      <td>48.3</td>\n",
       "      <td>101.02</td>\n",
       "      <td>1</td>\n",
       "      <td>296.2560</td>\n",
       "    </tr>\n",
       "    <tr>\n",
       "      <th>2784</th>\n",
       "      <td>4/26/2012 0:00</td>\n",
       "      <td>5.8</td>\n",
       "      <td>0.9</td>\n",
       "      <td>71</td>\n",
       "      <td>7</td>\n",
       "      <td>25.0</td>\n",
       "      <td>100.68</td>\n",
       "      <td>2</td>\n",
       "      <td>2.4001</td>\n",
       "    </tr>\n",
       "    <tr>\n",
       "      <th>3978</th>\n",
       "      <td>6/14/2012 18:00</td>\n",
       "      <td>22.7</td>\n",
       "      <td>7.5</td>\n",
       "      <td>38</td>\n",
       "      <td>17</td>\n",
       "      <td>48.3</td>\n",
       "      <td>102.16</td>\n",
       "      <td>1</td>\n",
       "      <td>615.7530</td>\n",
       "    </tr>\n",
       "    <tr>\n",
       "      <th>476</th>\n",
       "      <td>1/20/2012 20:00</td>\n",
       "      <td>-16.9</td>\n",
       "      <td>-24.8</td>\n",
       "      <td>50</td>\n",
       "      <td>9</td>\n",
       "      <td>25.0</td>\n",
       "      <td>102.34</td>\n",
       "      <td>1</td>\n",
       "      <td>291.1080</td>\n",
       "    </tr>\n",
       "    <tr>\n",
       "      <th>1789</th>\n",
       "      <td>3/15/2012 13:00</td>\n",
       "      <td>3.4</td>\n",
       "      <td>0.0</td>\n",
       "      <td>78</td>\n",
       "      <td>22</td>\n",
       "      <td>24.1</td>\n",
       "      <td>102.12</td>\n",
       "      <td>2</td>\n",
       "      <td>25.3281</td>\n",
       "    </tr>\n",
       "    <tr>\n",
       "      <th>6667</th>\n",
       "      <td>10/4/2012 19:00</td>\n",
       "      <td>14.8</td>\n",
       "      <td>14.6</td>\n",
       "      <td>99</td>\n",
       "      <td>6</td>\n",
       "      <td>9.7</td>\n",
       "      <td>101.10</td>\n",
       "      <td>2</td>\n",
       "      <td>386.2340</td>\n",
       "    </tr>\n",
       "    <tr>\n",
       "      <th>4144</th>\n",
       "      <td>6/21/2012 16:00</td>\n",
       "      <td>32.5</td>\n",
       "      <td>17.9</td>\n",
       "      <td>42</td>\n",
       "      <td>24</td>\n",
       "      <td>24.1</td>\n",
       "      <td>100.14</td>\n",
       "      <td>1</td>\n",
       "      <td>267.2150</td>\n",
       "    </tr>\n",
       "    <tr>\n",
       "      <th>1445</th>\n",
       "      <td>3/1/2012 5:00</td>\n",
       "      <td>-5.3</td>\n",
       "      <td>-7.9</td>\n",
       "      <td>82</td>\n",
       "      <td>33</td>\n",
       "      <td>2.4</td>\n",
       "      <td>100.58</td>\n",
       "      <td>3</td>\n",
       "      <td>357.9680</td>\n",
       "    </tr>\n",
       "  </tbody>\n",
       "</table>\n",
       "</div>"
      ],
      "text/plain": [
       "            Date/Time  Temp_C  Dew Point Temp_C  Rel Hum_%  Wind Speed_km/h   \n",
       "7463  11/6/2012 23:00    -1.5              -6.4         69                6  \\\n",
       "4532   7/7/2012 20:00    25.5              14.5         51                9   \n",
       "4580   7/9/2012 20:00    19.5               7.9         47                7   \n",
       "2784   4/26/2012 0:00     5.8               0.9         71                7   \n",
       "3978  6/14/2012 18:00    22.7               7.5         38               17   \n",
       "476   1/20/2012 20:00   -16.9             -24.8         50                9   \n",
       "1789  3/15/2012 13:00     3.4               0.0         78               22   \n",
       "6667  10/4/2012 19:00    14.8              14.6         99                6   \n",
       "4144  6/21/2012 16:00    32.5              17.9         42               24   \n",
       "1445    3/1/2012 5:00    -5.3              -7.9         82               33   \n",
       "\n",
       "      Visibility_km  Press_kPa  Weather      rain  \n",
       "7463           25.0     101.96        1   30.1635  \n",
       "4532           48.3     100.43        2  221.4050  \n",
       "4580           48.3     101.02        1  296.2560  \n",
       "2784           25.0     100.68        2    2.4001  \n",
       "3978           48.3     102.16        1  615.7530  \n",
       "476            25.0     102.34        1  291.1080  \n",
       "1789           24.1     102.12        2   25.3281  \n",
       "6667            9.7     101.10        2  386.2340  \n",
       "4144           24.1     100.14        1  267.2150  \n",
       "1445            2.4     100.58        3  357.9680  "
      ]
     },
     "execution_count": 4,
     "metadata": {},
     "output_type": "execute_result"
    }
   ],
   "source": [
    "data.sample(10)"
   ]
  },
  {
   "cell_type": "code",
   "execution_count": 5,
   "id": "dc73b2e3",
   "metadata": {},
   "outputs": [],
   "source": [
    "data['target'] = data['rain'].apply(lambda x: 1 if x > 100 else 0)"
   ]
  },
  {
   "cell_type": "code",
   "execution_count": 6,
   "id": "87b2e032",
   "metadata": {},
   "outputs": [
    {
     "data": {
      "text/html": [
       "<div>\n",
       "<style scoped>\n",
       "    .dataframe tbody tr th:only-of-type {\n",
       "        vertical-align: middle;\n",
       "    }\n",
       "\n",
       "    .dataframe tbody tr th {\n",
       "        vertical-align: top;\n",
       "    }\n",
       "\n",
       "    .dataframe thead th {\n",
       "        text-align: right;\n",
       "    }\n",
       "</style>\n",
       "<table border=\"1\" class=\"dataframe\">\n",
       "  <thead>\n",
       "    <tr style=\"text-align: right;\">\n",
       "      <th></th>\n",
       "      <th>Date/Time</th>\n",
       "      <th>Temp_C</th>\n",
       "      <th>Dew Point Temp_C</th>\n",
       "      <th>Rel Hum_%</th>\n",
       "      <th>Wind Speed_km/h</th>\n",
       "      <th>Visibility_km</th>\n",
       "      <th>Press_kPa</th>\n",
       "      <th>Weather</th>\n",
       "      <th>rain</th>\n",
       "      <th>target</th>\n",
       "    </tr>\n",
       "  </thead>\n",
       "  <tbody>\n",
       "    <tr>\n",
       "      <th>1538</th>\n",
       "      <td>3/5/2012 2:00</td>\n",
       "      <td>-14.5</td>\n",
       "      <td>-22.3</td>\n",
       "      <td>52</td>\n",
       "      <td>24</td>\n",
       "      <td>25.0</td>\n",
       "      <td>100.39</td>\n",
       "      <td>1</td>\n",
       "      <td>13.12230</td>\n",
       "      <td>0</td>\n",
       "    </tr>\n",
       "    <tr>\n",
       "      <th>8394</th>\n",
       "      <td>12/15/2012 18:00</td>\n",
       "      <td>-9.1</td>\n",
       "      <td>-15.1</td>\n",
       "      <td>62</td>\n",
       "      <td>17</td>\n",
       "      <td>25.0</td>\n",
       "      <td>102.54</td>\n",
       "      <td>1</td>\n",
       "      <td>767.51300</td>\n",
       "      <td>1</td>\n",
       "    </tr>\n",
       "    <tr>\n",
       "      <th>2738</th>\n",
       "      <td>4/24/2012 2:00</td>\n",
       "      <td>6.1</td>\n",
       "      <td>4.5</td>\n",
       "      <td>89</td>\n",
       "      <td>6</td>\n",
       "      <td>9.7</td>\n",
       "      <td>98.50</td>\n",
       "      <td>2</td>\n",
       "      <td>11.88940</td>\n",
       "      <td>0</td>\n",
       "    </tr>\n",
       "    <tr>\n",
       "      <th>3329</th>\n",
       "      <td>5/18/2012 17:00</td>\n",
       "      <td>20.9</td>\n",
       "      <td>2.5</td>\n",
       "      <td>30</td>\n",
       "      <td>17</td>\n",
       "      <td>48.3</td>\n",
       "      <td>101.59</td>\n",
       "      <td>2</td>\n",
       "      <td>383.85900</td>\n",
       "      <td>1</td>\n",
       "    </tr>\n",
       "    <tr>\n",
       "      <th>6400</th>\n",
       "      <td>9/23/2012 16:00</td>\n",
       "      <td>15.1</td>\n",
       "      <td>5.7</td>\n",
       "      <td>53</td>\n",
       "      <td>15</td>\n",
       "      <td>48.3</td>\n",
       "      <td>101.07</td>\n",
       "      <td>1</td>\n",
       "      <td>333.84500</td>\n",
       "      <td>1</td>\n",
       "    </tr>\n",
       "    <tr>\n",
       "      <th>420</th>\n",
       "      <td>1/18/2012 12:00</td>\n",
       "      <td>-11.0</td>\n",
       "      <td>-17.8</td>\n",
       "      <td>57</td>\n",
       "      <td>37</td>\n",
       "      <td>24.1</td>\n",
       "      <td>101.00</td>\n",
       "      <td>1</td>\n",
       "      <td>5.30771</td>\n",
       "      <td>0</td>\n",
       "    </tr>\n",
       "    <tr>\n",
       "      <th>3343</th>\n",
       "      <td>5/19/2012 7:00</td>\n",
       "      <td>14.7</td>\n",
       "      <td>6.8</td>\n",
       "      <td>59</td>\n",
       "      <td>9</td>\n",
       "      <td>48.3</td>\n",
       "      <td>101.72</td>\n",
       "      <td>1</td>\n",
       "      <td>448.97800</td>\n",
       "      <td>1</td>\n",
       "    </tr>\n",
       "    <tr>\n",
       "      <th>8427</th>\n",
       "      <td>12/17/2012 3:00</td>\n",
       "      <td>-2.6</td>\n",
       "      <td>-3.7</td>\n",
       "      <td>92</td>\n",
       "      <td>28</td>\n",
       "      <td>8.0</td>\n",
       "      <td>100.95</td>\n",
       "      <td>3</td>\n",
       "      <td>109.43800</td>\n",
       "      <td>1</td>\n",
       "    </tr>\n",
       "    <tr>\n",
       "      <th>2064</th>\n",
       "      <td>3/27/2012 0:00</td>\n",
       "      <td>-4.3</td>\n",
       "      <td>-17.6</td>\n",
       "      <td>35</td>\n",
       "      <td>22</td>\n",
       "      <td>25.0</td>\n",
       "      <td>101.94</td>\n",
       "      <td>1</td>\n",
       "      <td>4.36869</td>\n",
       "      <td>0</td>\n",
       "    </tr>\n",
       "    <tr>\n",
       "      <th>1270</th>\n",
       "      <td>2/22/2012 22:00</td>\n",
       "      <td>2.7</td>\n",
       "      <td>-0.8</td>\n",
       "      <td>78</td>\n",
       "      <td>15</td>\n",
       "      <td>25.0</td>\n",
       "      <td>99.26</td>\n",
       "      <td>2</td>\n",
       "      <td>24.29990</td>\n",
       "      <td>0</td>\n",
       "    </tr>\n",
       "  </tbody>\n",
       "</table>\n",
       "</div>"
      ],
      "text/plain": [
       "             Date/Time  Temp_C  Dew Point Temp_C  Rel Hum_%  Wind Speed_km/h   \n",
       "1538     3/5/2012 2:00   -14.5             -22.3         52               24  \\\n",
       "8394  12/15/2012 18:00    -9.1             -15.1         62               17   \n",
       "2738    4/24/2012 2:00     6.1               4.5         89                6   \n",
       "3329   5/18/2012 17:00    20.9               2.5         30               17   \n",
       "6400   9/23/2012 16:00    15.1               5.7         53               15   \n",
       "420    1/18/2012 12:00   -11.0             -17.8         57               37   \n",
       "3343    5/19/2012 7:00    14.7               6.8         59                9   \n",
       "8427   12/17/2012 3:00    -2.6              -3.7         92               28   \n",
       "2064    3/27/2012 0:00    -4.3             -17.6         35               22   \n",
       "1270   2/22/2012 22:00     2.7              -0.8         78               15   \n",
       "\n",
       "      Visibility_km  Press_kPa  Weather       rain  target  \n",
       "1538           25.0     100.39        1   13.12230       0  \n",
       "8394           25.0     102.54        1  767.51300       1  \n",
       "2738            9.7      98.50        2   11.88940       0  \n",
       "3329           48.3     101.59        2  383.85900       1  \n",
       "6400           48.3     101.07        1  333.84500       1  \n",
       "420            24.1     101.00        1    5.30771       0  \n",
       "3343           48.3     101.72        1  448.97800       1  \n",
       "8427            8.0     100.95        3  109.43800       1  \n",
       "2064           25.0     101.94        1    4.36869       0  \n",
       "1270           25.0      99.26        2   24.29990       0  "
      ]
     },
     "execution_count": 6,
     "metadata": {},
     "output_type": "execute_result"
    }
   ],
   "source": [
    "data.sample(10)"
   ]
  },
  {
   "cell_type": "code",
   "execution_count": 7,
   "id": "7934b1fa",
   "metadata": {},
   "outputs": [],
   "source": [
    "data.drop(columns='Date/Time', inplace=True)"
   ]
  },
  {
   "cell_type": "code",
   "execution_count": 8,
   "id": "0733b6ce",
   "metadata": {},
   "outputs": [
    {
     "data": {
      "text/html": [
       "<div>\n",
       "<style scoped>\n",
       "    .dataframe tbody tr th:only-of-type {\n",
       "        vertical-align: middle;\n",
       "    }\n",
       "\n",
       "    .dataframe tbody tr th {\n",
       "        vertical-align: top;\n",
       "    }\n",
       "\n",
       "    .dataframe thead th {\n",
       "        text-align: right;\n",
       "    }\n",
       "</style>\n",
       "<table border=\"1\" class=\"dataframe\">\n",
       "  <thead>\n",
       "    <tr style=\"text-align: right;\">\n",
       "      <th></th>\n",
       "      <th>Temp_C</th>\n",
       "      <th>Dew Point Temp_C</th>\n",
       "      <th>Rel Hum_%</th>\n",
       "      <th>Wind Speed_km/h</th>\n",
       "      <th>Visibility_km</th>\n",
       "      <th>Press_kPa</th>\n",
       "      <th>Weather</th>\n",
       "      <th>rain</th>\n",
       "      <th>target</th>\n",
       "    </tr>\n",
       "  </thead>\n",
       "  <tbody>\n",
       "    <tr>\n",
       "      <th>0</th>\n",
       "      <td>-1.8</td>\n",
       "      <td>-3.9</td>\n",
       "      <td>86</td>\n",
       "      <td>4</td>\n",
       "      <td>8.0</td>\n",
       "      <td>101.24</td>\n",
       "      <td>2</td>\n",
       "      <td>18.5356</td>\n",
       "      <td>0</td>\n",
       "    </tr>\n",
       "    <tr>\n",
       "      <th>1</th>\n",
       "      <td>-1.8</td>\n",
       "      <td>-3.7</td>\n",
       "      <td>87</td>\n",
       "      <td>4</td>\n",
       "      <td>8.0</td>\n",
       "      <td>101.24</td>\n",
       "      <td>2</td>\n",
       "      <td>16.2548</td>\n",
       "      <td>0</td>\n",
       "    </tr>\n",
       "    <tr>\n",
       "      <th>2</th>\n",
       "      <td>-1.8</td>\n",
       "      <td>-3.4</td>\n",
       "      <td>89</td>\n",
       "      <td>7</td>\n",
       "      <td>4.0</td>\n",
       "      <td>101.26</td>\n",
       "      <td>3</td>\n",
       "      <td>70.7981</td>\n",
       "      <td>0</td>\n",
       "    </tr>\n",
       "    <tr>\n",
       "      <th>3</th>\n",
       "      <td>-1.5</td>\n",
       "      <td>-3.2</td>\n",
       "      <td>88</td>\n",
       "      <td>6</td>\n",
       "      <td>4.0</td>\n",
       "      <td>101.27</td>\n",
       "      <td>3</td>\n",
       "      <td>66.1616</td>\n",
       "      <td>0</td>\n",
       "    </tr>\n",
       "    <tr>\n",
       "      <th>4</th>\n",
       "      <td>-1.5</td>\n",
       "      <td>-3.3</td>\n",
       "      <td>88</td>\n",
       "      <td>7</td>\n",
       "      <td>4.8</td>\n",
       "      <td>101.23</td>\n",
       "      <td>2</td>\n",
       "      <td>267.2150</td>\n",
       "      <td>1</td>\n",
       "    </tr>\n",
       "  </tbody>\n",
       "</table>\n",
       "</div>"
      ],
      "text/plain": [
       "   Temp_C  Dew Point Temp_C  Rel Hum_%  Wind Speed_km/h  Visibility_km   \n",
       "0    -1.8              -3.9         86                4            8.0  \\\n",
       "1    -1.8              -3.7         87                4            8.0   \n",
       "2    -1.8              -3.4         89                7            4.0   \n",
       "3    -1.5              -3.2         88                6            4.0   \n",
       "4    -1.5              -3.3         88                7            4.8   \n",
       "\n",
       "   Press_kPa  Weather      rain  target  \n",
       "0     101.24        2   18.5356       0  \n",
       "1     101.24        2   16.2548       0  \n",
       "2     101.26        3   70.7981       0  \n",
       "3     101.27        3   66.1616       0  \n",
       "4     101.23        2  267.2150       1  "
      ]
     },
     "execution_count": 8,
     "metadata": {},
     "output_type": "execute_result"
    }
   ],
   "source": [
    "data.head(5)"
   ]
  },
  {
   "cell_type": "code",
   "execution_count": 9,
   "id": "e551bc63",
   "metadata": {},
   "outputs": [
    {
     "data": {
      "text/plain": [
       "target\n",
       "1    4870\n",
       "0    3914\n",
       "Name: count, dtype: int64"
      ]
     },
     "execution_count": 9,
     "metadata": {},
     "output_type": "execute_result"
    }
   ],
   "source": [
    "data['target'].value_counts()"
   ]
  },
  {
   "cell_type": "code",
   "execution_count": 10,
   "id": "63effefb",
   "metadata": {},
   "outputs": [],
   "source": [
    "x = data.drop(columns='target',axis=1)\n",
    "y=data['target']\n"
   ]
  },
  {
   "cell_type": "code",
   "execution_count": 11,
   "id": "f536e00f",
   "metadata": {},
   "outputs": [],
   "source": [
    "#train test split \n",
    "from sklearn.model_selection import train_test_split"
   ]
  },
  {
   "cell_type": "code",
   "execution_count": 12,
   "id": "8c337384",
   "metadata": {},
   "outputs": [],
   "source": [
    "x_train,x_test,y_train,y_test=train_test_split(x,y,test_size=0.2)"
   ]
  },
  {
   "cell_type": "code",
   "execution_count": 13,
   "id": "e93f0411",
   "metadata": {},
   "outputs": [
    {
     "data": {
      "text/plain": [
       "((7027, 8), (1757, 8), (7027,), (1757,))"
      ]
     },
     "execution_count": 13,
     "metadata": {},
     "output_type": "execute_result"
    }
   ],
   "source": [
    "x_train.shape,x_test.shape,y_train.shape,y_test.shape"
   ]
  },
  {
   "cell_type": "code",
   "execution_count": 14,
   "id": "070ad41a",
   "metadata": {},
   "outputs": [],
   "source": [
    "from sklearn.linear_model import LogisticRegression"
   ]
  },
  {
   "cell_type": "code",
   "execution_count": 15,
   "id": "ec88ff4b",
   "metadata": {},
   "outputs": [],
   "source": [
    "model = LogisticRegression()"
   ]
  },
  {
   "cell_type": "code",
   "execution_count": 16,
   "id": "006a6aba",
   "metadata": {},
   "outputs": [
    {
     "name": "stderr",
     "output_type": "stream",
     "text": [
      "C:\\Users\\Pritam Dutta\\AppData\\Local\\Programs\\Python\\Python310\\lib\\site-packages\\sklearn\\linear_model\\_logistic.py:458: ConvergenceWarning: lbfgs failed to converge (status=1):\n",
      "STOP: TOTAL NO. of ITERATIONS REACHED LIMIT.\n",
      "\n",
      "Increase the number of iterations (max_iter) or scale the data as shown in:\n",
      "    https://scikit-learn.org/stable/modules/preprocessing.html\n",
      "Please also refer to the documentation for alternative solver options:\n",
      "    https://scikit-learn.org/stable/modules/linear_model.html#logistic-regression\n",
      "  n_iter_i = _check_optimize_result(\n"
     ]
    },
    {
     "data": {
      "text/html": [
       "<style>#sk-container-id-1 {color: black;background-color: white;}#sk-container-id-1 pre{padding: 0;}#sk-container-id-1 div.sk-toggleable {background-color: white;}#sk-container-id-1 label.sk-toggleable__label {cursor: pointer;display: block;width: 100%;margin-bottom: 0;padding: 0.3em;box-sizing: border-box;text-align: center;}#sk-container-id-1 label.sk-toggleable__label-arrow:before {content: \"▸\";float: left;margin-right: 0.25em;color: #696969;}#sk-container-id-1 label.sk-toggleable__label-arrow:hover:before {color: black;}#sk-container-id-1 div.sk-estimator:hover label.sk-toggleable__label-arrow:before {color: black;}#sk-container-id-1 div.sk-toggleable__content {max-height: 0;max-width: 0;overflow: hidden;text-align: left;background-color: #f0f8ff;}#sk-container-id-1 div.sk-toggleable__content pre {margin: 0.2em;color: black;border-radius: 0.25em;background-color: #f0f8ff;}#sk-container-id-1 input.sk-toggleable__control:checked~div.sk-toggleable__content {max-height: 200px;max-width: 100%;overflow: auto;}#sk-container-id-1 input.sk-toggleable__control:checked~label.sk-toggleable__label-arrow:before {content: \"▾\";}#sk-container-id-1 div.sk-estimator input.sk-toggleable__control:checked~label.sk-toggleable__label {background-color: #d4ebff;}#sk-container-id-1 div.sk-label input.sk-toggleable__control:checked~label.sk-toggleable__label {background-color: #d4ebff;}#sk-container-id-1 input.sk-hidden--visually {border: 0;clip: rect(1px 1px 1px 1px);clip: rect(1px, 1px, 1px, 1px);height: 1px;margin: -1px;overflow: hidden;padding: 0;position: absolute;width: 1px;}#sk-container-id-1 div.sk-estimator {font-family: monospace;background-color: #f0f8ff;border: 1px dotted black;border-radius: 0.25em;box-sizing: border-box;margin-bottom: 0.5em;}#sk-container-id-1 div.sk-estimator:hover {background-color: #d4ebff;}#sk-container-id-1 div.sk-parallel-item::after {content: \"\";width: 100%;border-bottom: 1px solid gray;flex-grow: 1;}#sk-container-id-1 div.sk-label:hover label.sk-toggleable__label {background-color: #d4ebff;}#sk-container-id-1 div.sk-serial::before {content: \"\";position: absolute;border-left: 1px solid gray;box-sizing: border-box;top: 0;bottom: 0;left: 50%;z-index: 0;}#sk-container-id-1 div.sk-serial {display: flex;flex-direction: column;align-items: center;background-color: white;padding-right: 0.2em;padding-left: 0.2em;position: relative;}#sk-container-id-1 div.sk-item {position: relative;z-index: 1;}#sk-container-id-1 div.sk-parallel {display: flex;align-items: stretch;justify-content: center;background-color: white;position: relative;}#sk-container-id-1 div.sk-item::before, #sk-container-id-1 div.sk-parallel-item::before {content: \"\";position: absolute;border-left: 1px solid gray;box-sizing: border-box;top: 0;bottom: 0;left: 50%;z-index: -1;}#sk-container-id-1 div.sk-parallel-item {display: flex;flex-direction: column;z-index: 1;position: relative;background-color: white;}#sk-container-id-1 div.sk-parallel-item:first-child::after {align-self: flex-end;width: 50%;}#sk-container-id-1 div.sk-parallel-item:last-child::after {align-self: flex-start;width: 50%;}#sk-container-id-1 div.sk-parallel-item:only-child::after {width: 0;}#sk-container-id-1 div.sk-dashed-wrapped {border: 1px dashed gray;margin: 0 0.4em 0.5em 0.4em;box-sizing: border-box;padding-bottom: 0.4em;background-color: white;}#sk-container-id-1 div.sk-label label {font-family: monospace;font-weight: bold;display: inline-block;line-height: 1.2em;}#sk-container-id-1 div.sk-label-container {text-align: center;}#sk-container-id-1 div.sk-container {/* jupyter's `normalize.less` sets `[hidden] { display: none; }` but bootstrap.min.css set `[hidden] { display: none !important; }` so we also need the `!important` here to be able to override the default hidden behavior on the sphinx rendered scikit-learn.org. See: https://github.com/scikit-learn/scikit-learn/issues/21755 */display: inline-block !important;position: relative;}#sk-container-id-1 div.sk-text-repr-fallback {display: none;}</style><div id=\"sk-container-id-1\" class=\"sk-top-container\"><div class=\"sk-text-repr-fallback\"><pre>LogisticRegression()</pre><b>In a Jupyter environment, please rerun this cell to show the HTML representation or trust the notebook. <br />On GitHub, the HTML representation is unable to render, please try loading this page with nbviewer.org.</b></div><div class=\"sk-container\" hidden><div class=\"sk-item\"><div class=\"sk-estimator sk-toggleable\"><input class=\"sk-toggleable__control sk-hidden--visually\" id=\"sk-estimator-id-1\" type=\"checkbox\" checked><label for=\"sk-estimator-id-1\" class=\"sk-toggleable__label sk-toggleable__label-arrow\">LogisticRegression</label><div class=\"sk-toggleable__content\"><pre>LogisticRegression()</pre></div></div></div></div></div>"
      ],
      "text/plain": [
       "LogisticRegression()"
      ]
     },
     "execution_count": 16,
     "metadata": {},
     "output_type": "execute_result"
    }
   ],
   "source": [
    "model.fit(x_train,y_train)"
   ]
  },
  {
   "cell_type": "code",
   "execution_count": 17,
   "id": "a9c5c583",
   "metadata": {},
   "outputs": [
    {
     "name": "stdout",
     "output_type": "stream",
     "text": [
      "Accuracy :  0.9998576917603529\n"
     ]
    }
   ],
   "source": [
    "#accuracy score \n",
    "from sklearn.metrics import accuracy_score\n",
    "y_train_pred = model.predict(x_train)\n",
    "accuracy_score_train = accuracy_score(y_train,y_train_pred)\n",
    "print(\"Accuracy : \",accuracy_score_train)"
   ]
  },
  {
   "cell_type": "code",
   "execution_count": 18,
   "id": "a2f7f44a",
   "metadata": {},
   "outputs": [
    {
     "name": "stdout",
     "output_type": "stream",
     "text": [
      "Accuracy :  0.9994308480364257\n"
     ]
    }
   ],
   "source": [
    "y_test_pred = model.predict(x_test)\n",
    "accuracy_score_test = accuracy_score(y_test,y_test_pred)\n",
    "print(\"Accuracy : \",accuracy_score_test)"
   ]
  },
  {
   "cell_type": "code",
   "execution_count": 19,
   "id": "48d92c7d",
   "metadata": {},
   "outputs": [
    {
     "data": {
      "image/png": "[encoded data removed]",
      "text/plain": [
       "<Figure size 800x600 with 1 Axes>"
      ]
     },
     "metadata": {},
     "output_type": "display_data"
    }
   ],
   "source": [
    "plt.figure(figsize=(8, 6))\n",
    "plt.scatter(y_test, y_test_pred, color='blue', label='True vs. Predicted')\n",
    "\n",
    "# Plot the true line\n",
    "plt.plot(y_test, y_test_pred, linestyle='--', color='red', label='True Line')\n",
    "\n",
    "plt.title('True vs. Predicted Values')\n",
    "plt.xlabel('True Values')\n",
    "plt.ylabel('Predicted Values')\n",
    "plt.legend()\n",
    "plt.grid(True)\n",
    "plt.show()"
   ]
  },
  {
   "cell_type": "code",
   "execution_count": 20,
   "id": "1125f9d5",
   "metadata": {},
   "outputs": [],
   "source": [
    "from sklearn.svm import SVC \n",
    "from sklearn.tree import DecisionTreeClassifier\n",
    "from sklearn.neighbors import KNeighborsClassifier \n",
    "\n",
    "from sklearn.ensemble import RandomForestClassifier"
   ]
  },
  {
   "cell_type": "code",
   "execution_count": 21,
   "id": "71553229",
   "metadata": {},
   "outputs": [],
   "source": [
    "md = SVC(kernel='linear')"
   ]
  },
  {
   "cell_type": "code",
   "execution_count": 22,
   "id": "0234ce24",
   "metadata": {},
   "outputs": [
    {
     "name": "stdout",
     "output_type": "stream",
     "text": [
      "Accuracy :  1.0\n"
     ]
    }
   ],
   "source": [
    "md.fit(x_train,y_train)\n",
    "y_train_pred = md.predict(x_train)\n",
    "accuracy_score_train = accuracy_score(y_train,y_train_pred)\n",
    "print(\"Accuracy : \",accuracy_score_train)"
   ]
  },
  {
   "cell_type": "markdown",
   "id": "bfdad117",
   "metadata": {},
   "source": [
    "# chances of CloudBurst (dependencies are below this model)"
   ]
  },
  {
   "cell_type": "code",
   "execution_count": 23,
   "id": "f76a338c",
   "metadata": {},
   "outputs": [
    {
     "name": "stdout",
     "output_type": "stream",
     "text": [
      "[0]\n",
      "There is no chance to CloudBurst\n"
     ]
    },
    {
     "name": "stderr",
     "output_type": "stream",
     "text": [
      "C:\\Users\\Pritam Dutta\\AppData\\Local\\Programs\\Python\\Python310\\lib\\site-packages\\sklearn\\base.py:439: UserWarning: X does not have valid feature names, but LogisticRegression was fitted with feature names\n",
      "  warnings.warn(\n"
     ]
    }
   ],
   "source": [
    "#make a predictive model \n",
    "input_data = [29,67,54,14,8.046,101.3,1,16.79]\n",
    "input_data_as_array = np.asarray(input_data)\n",
    "input_data_reshape = input_data_as_array.reshape(1,-1)\n",
    "#prediction \n",
    "predict = model.predict(input_data_reshape)\n",
    "print(predict)\n",
    "if predict ==0:\n",
    "    print(\"There is no chance to CloudBurst\")\n",
    "else:\n",
    "    print(\"There is a chance of cloudBurst\")"
   ]
  },
  {
   "cell_type": "code",
   "execution_count": 24,
   "id": "5c12ea72",
   "metadata": {},
   "outputs": [
    {
     "data": {
      "text/plain": [
       "0"
      ]
     },
     "execution_count": 24,
     "metadata": {},
     "output_type": "execute_result"
    }
   ],
   "source": [
    "y[12]"
   ]
  },
  {
   "cell_type": "markdown",
   "id": "648ec763",
   "metadata": {},
   "source": [
    "# take a input of \n",
    "# Temp_C,\n",
    "# Dew Point Temp_C,\n",
    "# Rel Hum_%,\n",
    "# Wind Speed_km/h\n",
    "# Visibility_km -visibility\n",
    "# Press_kPa, -pressure\n",
    "# Weather ->clear,cloudy etc\n",
    "# rain -> per inch"
   ]
  },
  {
   "cell_type": "code",
   "execution_count": 25,
   "id": "6821888b",
   "metadata": {},
   "outputs": [],
   "source": [
    "# 1-> clear \n",
    "# 2-> cloudy,most cloudy all cloudy situation \n",
    "# 3-> rain with all rainy situation \n",
    "# 4->for others like snowfall etc.\n"
   ]
  },
  {
   "cell_type": "code",
   "execution_count": 26,
   "id": "f0d1ad4b",
   "metadata": {},
   "outputs": [],
   "source": [
    "x_per = data.drop(columns='rain',axis=1)\n",
    "y_per = data['rain']\n"
   ]
  },
  {
   "cell_type": "code",
   "execution_count": 27,
   "id": "67ad6631",
   "metadata": {},
   "outputs": [
    {
     "data": {
      "text/html": [
       "<div>\n",
       "<style scoped>\n",
       "    .dataframe tbody tr th:only-of-type {\n",
       "        vertical-align: middle;\n",
       "    }\n",
       "\n",
       "    .dataframe tbody tr th {\n",
       "        vertical-align: top;\n",
       "    }\n",
       "\n",
       "    .dataframe thead th {\n",
       "        text-align: right;\n",
       "    }\n",
       "</style>\n",
       "<table border=\"1\" class=\"dataframe\">\n",
       "  <thead>\n",
       "    <tr style=\"text-align: right;\">\n",
       "      <th></th>\n",
       "      <th>Temp_C</th>\n",
       "      <th>Dew Point Temp_C</th>\n",
       "      <th>Rel Hum_%</th>\n",
       "      <th>Wind Speed_km/h</th>\n",
       "      <th>Visibility_km</th>\n",
       "      <th>Press_kPa</th>\n",
       "      <th>Weather</th>\n",
       "      <th>target</th>\n",
       "    </tr>\n",
       "  </thead>\n",
       "  <tbody>\n",
       "    <tr>\n",
       "      <th>0</th>\n",
       "      <td>-1.8</td>\n",
       "      <td>-3.9</td>\n",
       "      <td>86</td>\n",
       "      <td>4</td>\n",
       "      <td>8.0</td>\n",
       "      <td>101.24</td>\n",
       "      <td>2</td>\n",
       "      <td>0</td>\n",
       "    </tr>\n",
       "    <tr>\n",
       "      <th>1</th>\n",
       "      <td>-1.8</td>\n",
       "      <td>-3.7</td>\n",
       "      <td>87</td>\n",
       "      <td>4</td>\n",
       "      <td>8.0</td>\n",
       "      <td>101.24</td>\n",
       "      <td>2</td>\n",
       "      <td>0</td>\n",
       "    </tr>\n",
       "    <tr>\n",
       "      <th>2</th>\n",
       "      <td>-1.8</td>\n",
       "      <td>-3.4</td>\n",
       "      <td>89</td>\n",
       "      <td>7</td>\n",
       "      <td>4.0</td>\n",
       "      <td>101.26</td>\n",
       "      <td>3</td>\n",
       "      <td>0</td>\n",
       "    </tr>\n",
       "    <tr>\n",
       "      <th>3</th>\n",
       "      <td>-1.5</td>\n",
       "      <td>-3.2</td>\n",
       "      <td>88</td>\n",
       "      <td>6</td>\n",
       "      <td>4.0</td>\n",
       "      <td>101.27</td>\n",
       "      <td>3</td>\n",
       "      <td>0</td>\n",
       "    </tr>\n",
       "    <tr>\n",
       "      <th>4</th>\n",
       "      <td>-1.5</td>\n",
       "      <td>-3.3</td>\n",
       "      <td>88</td>\n",
       "      <td>7</td>\n",
       "      <td>4.8</td>\n",
       "      <td>101.23</td>\n",
       "      <td>2</td>\n",
       "      <td>1</td>\n",
       "    </tr>\n",
       "    <tr>\n",
       "      <th>...</th>\n",
       "      <td>...</td>\n",
       "      <td>...</td>\n",
       "      <td>...</td>\n",
       "      <td>...</td>\n",
       "      <td>...</td>\n",
       "      <td>...</td>\n",
       "      <td>...</td>\n",
       "      <td>...</td>\n",
       "    </tr>\n",
       "    <tr>\n",
       "      <th>8779</th>\n",
       "      <td>0.1</td>\n",
       "      <td>-2.7</td>\n",
       "      <td>81</td>\n",
       "      <td>30</td>\n",
       "      <td>9.7</td>\n",
       "      <td>100.13</td>\n",
       "      <td>3</td>\n",
       "      <td>1</td>\n",
       "    </tr>\n",
       "    <tr>\n",
       "      <th>8780</th>\n",
       "      <td>0.2</td>\n",
       "      <td>-2.4</td>\n",
       "      <td>83</td>\n",
       "      <td>24</td>\n",
       "      <td>9.7</td>\n",
       "      <td>100.03</td>\n",
       "      <td>3</td>\n",
       "      <td>1</td>\n",
       "    </tr>\n",
       "    <tr>\n",
       "      <th>8781</th>\n",
       "      <td>-0.5</td>\n",
       "      <td>-1.5</td>\n",
       "      <td>93</td>\n",
       "      <td>28</td>\n",
       "      <td>4.8</td>\n",
       "      <td>99.95</td>\n",
       "      <td>3</td>\n",
       "      <td>0</td>\n",
       "    </tr>\n",
       "    <tr>\n",
       "      <th>8782</th>\n",
       "      <td>-0.2</td>\n",
       "      <td>-1.8</td>\n",
       "      <td>89</td>\n",
       "      <td>28</td>\n",
       "      <td>9.7</td>\n",
       "      <td>99.91</td>\n",
       "      <td>3</td>\n",
       "      <td>0</td>\n",
       "    </tr>\n",
       "    <tr>\n",
       "      <th>8783</th>\n",
       "      <td>0.0</td>\n",
       "      <td>-2.1</td>\n",
       "      <td>86</td>\n",
       "      <td>30</td>\n",
       "      <td>11.3</td>\n",
       "      <td>99.89</td>\n",
       "      <td>3</td>\n",
       "      <td>0</td>\n",
       "    </tr>\n",
       "  </tbody>\n",
       "</table>\n",
       "<p>8784 rows × 8 columns</p>\n",
       "</div>"
      ],
      "text/plain": [
       "      Temp_C  Dew Point Temp_C  Rel Hum_%  Wind Speed_km/h  Visibility_km   \n",
       "0       -1.8              -3.9         86                4            8.0  \\\n",
       "1       -1.8              -3.7         87                4            8.0   \n",
       "2       -1.8              -3.4         89                7            4.0   \n",
       "3       -1.5              -3.2         88                6            4.0   \n",
       "4       -1.5              -3.3         88                7            4.8   \n",
       "...      ...               ...        ...              ...            ...   \n",
       "8779     0.1              -2.7         81               30            9.7   \n",
       "8780     0.2              -2.4         83               24            9.7   \n",
       "8781    -0.5              -1.5         93               28            4.8   \n",
       "8782    -0.2              -1.8         89               28            9.7   \n",
       "8783     0.0              -2.1         86               30           11.3   \n",
       "\n",
       "      Press_kPa  Weather  target  \n",
       "0        101.24        2       0  \n",
       "1        101.24        2       0  \n",
       "2        101.26        3       0  \n",
       "3        101.27        3       0  \n",
       "4        101.23        2       1  \n",
       "...         ...      ...     ...  \n",
       "8779     100.13        3       1  \n",
       "8780     100.03        3       1  \n",
       "8781      99.95        3       0  \n",
       "8782      99.91        3       0  \n",
       "8783      99.89        3       0  \n",
       "\n",
       "[8784 rows x 8 columns]"
      ]
     },
     "execution_count": 27,
     "metadata": {},
     "output_type": "execute_result"
    }
   ],
   "source": [
    "x_per"
   ]
  },
  {
   "cell_type": "code",
   "execution_count": 28,
   "id": "b2a2a421",
   "metadata": {},
   "outputs": [],
   "source": [
    "from sklearn.linear_model import LinearRegression\n",
    "from sklearn.linear_model import Lasso\n"
   ]
  },
  {
   "cell_type": "code",
   "execution_count": 29,
   "id": "9d2e86c5",
   "metadata": {},
   "outputs": [],
   "source": [
    "las = Lasso()"
   ]
  },
  {
   "cell_type": "code",
   "execution_count": 30,
   "id": "ed209b4e",
   "metadata": {},
   "outputs": [],
   "source": [
    "#train_test_split \n",
    "x_train,x_test,y_train,y_test = train_test_split(x_per,y_per,test_size=0.2,random_state=2)"
   ]
  },
  {
   "cell_type": "code",
   "execution_count": 31,
   "id": "9e12ff20",
   "metadata": {},
   "outputs": [
    {
     "data": {
      "text/plain": [
       "((7027, 8), (1757, 8), (7027,))"
      ]
     },
     "execution_count": 31,
     "metadata": {},
     "output_type": "execute_result"
    }
   ],
   "source": [
    "x_train.shape,x_test.shape,y_train.shape"
   ]
  },
  {
   "cell_type": "code",
   "execution_count": null,
   "id": "74bcfe02",
   "metadata": {},
   "outputs": [],
   "source": []
  },
  {
   "cell_type": "code",
   "execution_count": 32,
   "id": "28dbfd87",
   "metadata": {},
   "outputs": [],
   "source": [
    "from sklearn import metrics "
   ]
  },
  {
   "cell_type": "code",
   "execution_count": null,
   "id": "2d7b0b07",
   "metadata": {},
   "outputs": [],
   "source": []
  },
  {
   "cell_type": "code",
   "execution_count": 33,
   "id": "af613f85",
   "metadata": {},
   "outputs": [
    {
     "data": {
      "image/png": "[encoded data removed]",
      "text/plain": [
       "<Figure size 640x480 with 1 Axes>"
      ]
     },
     "metadata": {},
     "output_type": "display_data"
    }
   ],
   "source": [
    "plt.scatter(y_train,y_train_pred)\n",
    "plt.xlabel(\"Actual Price\")\n",
    "plt.ylabel(\"Predicted Price\")\n",
    "plt.show()"
   ]
  },
  {
   "cell_type": "code",
   "execution_count": 34,
   "id": "5c1933e3",
   "metadata": {},
   "outputs": [
    {
     "name": "stderr",
     "output_type": "stream",
     "text": [
      "C:\\Users\\Pritam Dutta\\AppData\\Local\\Programs\\Python\\Python310\\lib\\site-packages\\sklearn\\linear_model\\_coordinate_descent.py:631: ConvergenceWarning: Objective did not converge. You might want to increase the number of iterations, check the scale of the features or consider increasing regularisation. Duality gap: 4.995e+04, tolerance: 2.918e+04\n",
      "  model = cd_fast.enet_coordinate_descent(\n"
     ]
    },
    {
     "data": {
      "text/html": [
       "<style>#sk-container-id-2 {color: black;background-color: white;}#sk-container-id-2 pre{padding: 0;}#sk-container-id-2 div.sk-toggleable {background-color: white;}#sk-container-id-2 label.sk-toggleable__label {cursor: pointer;display: block;width: 100%;margin-bottom: 0;padding: 0.3em;box-sizing: border-box;text-align: center;}#sk-container-id-2 label.sk-toggleable__label-arrow:before {content: \"▸\";float: left;margin-right: 0.25em;color: #696969;}#sk-container-id-2 label.sk-toggleable__label-arrow:hover:before {color: black;}#sk-container-id-2 div.sk-estimator:hover label.sk-toggleable__label-arrow:before {color: black;}#sk-container-id-2 div.sk-toggleable__content {max-height: 0;max-width: 0;overflow: hidden;text-align: left;background-color: #f0f8ff;}#sk-container-id-2 div.sk-toggleable__content pre {margin: 0.2em;color: black;border-radius: 0.25em;background-color: #f0f8ff;}#sk-container-id-2 input.sk-toggleable__control:checked~div.sk-toggleable__content {max-height: 200px;max-width: 100%;overflow: auto;}#sk-container-id-2 input.sk-toggleable__control:checked~label.sk-toggleable__label-arrow:before {content: \"▾\";}#sk-container-id-2 div.sk-estimator input.sk-toggleable__control:checked~label.sk-toggleable__label {background-color: #d4ebff;}#sk-container-id-2 div.sk-label input.sk-toggleable__control:checked~label.sk-toggleable__label {background-color: #d4ebff;}#sk-container-id-2 input.sk-hidden--visually {border: 0;clip: rect(1px 1px 1px 1px);clip: rect(1px, 1px, 1px, 1px);height: 1px;margin: -1px;overflow: hidden;padding: 0;position: absolute;width: 1px;}#sk-container-id-2 div.sk-estimator {font-family: monospace;background-color: #f0f8ff;border: 1px dotted black;border-radius: 0.25em;box-sizing: border-box;margin-bottom: 0.5em;}#sk-container-id-2 div.sk-estimator:hover {background-color: #d4ebff;}#sk-container-id-2 div.sk-parallel-item::after {content: \"\";width: 100%;border-bottom: 1px solid gray;flex-grow: 1;}#sk-container-id-2 div.sk-label:hover label.sk-toggleable__label {background-color: #d4ebff;}#sk-container-id-2 div.sk-serial::before {content: \"\";position: absolute;border-left: 1px solid gray;box-sizing: border-box;top: 0;bottom: 0;left: 50%;z-index: 0;}#sk-container-id-2 div.sk-serial {display: flex;flex-direction: column;align-items: center;background-color: white;padding-right: 0.2em;padding-left: 0.2em;position: relative;}#sk-container-id-2 div.sk-item {position: relative;z-index: 1;}#sk-container-id-2 div.sk-parallel {display: flex;align-items: stretch;justify-content: center;background-color: white;position: relative;}#sk-container-id-2 div.sk-item::before, #sk-container-id-2 div.sk-parallel-item::before {content: \"\";position: absolute;border-left: 1px solid gray;box-sizing: border-box;top: 0;bottom: 0;left: 50%;z-index: -1;}#sk-container-id-2 div.sk-parallel-item {display: flex;flex-direction: column;z-index: 1;position: relative;background-color: white;}#sk-container-id-2 div.sk-parallel-item:first-child::after {align-self: flex-end;width: 50%;}#sk-container-id-2 div.sk-parallel-item:last-child::after {align-self: flex-start;width: 50%;}#sk-container-id-2 div.sk-parallel-item:only-child::after {width: 0;}#sk-container-id-2 div.sk-dashed-wrapped {border: 1px dashed gray;margin: 0 0.4em 0.5em 0.4em;box-sizing: border-box;padding-bottom: 0.4em;background-color: white;}#sk-container-id-2 div.sk-label label {font-family: monospace;font-weight: bold;display: inline-block;line-height: 1.2em;}#sk-container-id-2 div.sk-label-container {text-align: center;}#sk-container-id-2 div.sk-container {/* jupyter's `normalize.less` sets `[hidden] { display: none; }` but bootstrap.min.css set `[hidden] { display: none !important; }` so we also need the `!important` here to be able to override the default hidden behavior on the sphinx rendered scikit-learn.org. See: https://github.com/scikit-learn/scikit-learn/issues/21755 */display: inline-block !important;position: relative;}#sk-container-id-2 div.sk-text-repr-fallback {display: none;}</style><div id=\"sk-container-id-2\" class=\"sk-top-container\"><div class=\"sk-text-repr-fallback\"><pre>Lasso()</pre><b>In a Jupyter environment, please rerun this cell to show the HTML representation or trust the notebook. <br />On GitHub, the HTML representation is unable to render, please try loading this page with nbviewer.org.</b></div><div class=\"sk-container\" hidden><div class=\"sk-item\"><div class=\"sk-estimator sk-toggleable\"><input class=\"sk-toggleable__control sk-hidden--visually\" id=\"sk-estimator-id-2\" type=\"checkbox\" checked><label for=\"sk-estimator-id-2\" class=\"sk-toggleable__label sk-toggleable__label-arrow\">Lasso</label><div class=\"sk-toggleable__content\"><pre>Lasso()</pre></div></div></div></div></div>"
      ],
      "text/plain": [
       "Lasso()"
      ]
     },
     "execution_count": 34,
     "metadata": {},
     "output_type": "execute_result"
    }
   ],
   "source": [
    "las.fit(x_train,y_train)"
   ]
  },
  {
   "cell_type": "code",
   "execution_count": 35,
   "id": "23f3ce7f",
   "metadata": {},
   "outputs": [
    {
     "name": "stdout",
     "output_type": "stream",
     "text": [
      "0.6329750316868752\n"
     ]
    }
   ],
   "source": [
    "y_train_pred = las.predict(x_train)\n",
    "r1 = metrics.r2_score(y_train,y_train_pred)\n",
    "print(r1)"
   ]
  },
  {
   "cell_type": "markdown",
   "id": "cf51e9f0",
   "metadata": {},
   "source": [
    "# chances of Rain For CloudBurst "
   ]
  },
  {
   "cell_type": "code",
   "execution_count": 36,
   "id": "7ccbc62c",
   "metadata": {},
   "outputs": [
    {
     "name": "stdout",
     "output_type": "stream",
     "text": [
      "The Rainfall % is :  16.799290830512177\n"
     ]
    },
    {
     "name": "stderr",
     "output_type": "stream",
     "text": [
      "C:\\Users\\Pritam Dutta\\AppData\\Local\\Programs\\Python\\Python310\\lib\\site-packages\\sklearn\\base.py:439: UserWarning: X does not have valid feature names, but Lasso was fitted with feature names\n",
      "  warnings.warn(\n"
     ]
    }
   ],
   "source": [
    "#make a predictive model \n",
    "input_data = [32,25,51,10,55,101.3,1,0]\n",
    "input_data_as_array = np.asarray(input_data)\n",
    "input_data_reshape = input_data_as_array.reshape(1,-1)\n",
    "#prediction\n",
    "rain_pre = las.predict(input_data_reshape)\n",
    "print(\"The Rainfall % is : \",rain_pre[0])\n"
   ]
  },
  {
   "cell_type": "code",
   "execution_count": 37,
   "id": "cb39a1b3",
   "metadata": {},
   "outputs": [],
   "source": [
    "from sklearn.metrics import mean_squared_error"
   ]
  },
  {
   "cell_type": "code",
   "execution_count": 38,
   "id": "6acd8343",
   "metadata": {},
   "outputs": [
    {
     "name": "stdout",
     "output_type": "stream",
     "text": [
      "81412.85055951975\n"
     ]
    }
   ],
   "source": [
    "mse = mean_squared_error(y_test,y_test_pred)\n",
    "print(mse)"
   ]
  },
  {
   "cell_type": "code",
   "execution_count": 39,
   "id": "f2300002",
   "metadata": {},
   "outputs": [
    {
     "name": "stderr",
     "output_type": "stream",
     "text": [
      "C:\\Users\\Pritam Dutta\\AppData\\Local\\Programs\\Python\\Python310\\lib\\site-packages\\sklearn\\base.py:439: UserWarning: X does not have valid feature names, but Lasso was fitted with feature names\n",
      "  warnings.warn(\n"
     ]
    },
    {
     "data": {
      "text/plain": [
       "array([16.79929083])"
      ]
     },
     "execution_count": 39,
     "metadata": {},
     "output_type": "execute_result"
    }
   ],
   "source": [
    "las.predict(input_data_reshape)"
   ]
  },
  {
   "cell_type": "code",
   "execution_count": 40,
   "id": "682d981c",
   "metadata": {},
   "outputs": [],
   "source": [
    "import pickle\n",
    "\n",
    "# Assuming 'model' is your trained machine learning model\n",
    "with open('your_model.pkl', 'wb') as file:\n",
    "    pickle.dump(model,file)"
   ]
  },
  {
   "cell_type": "code",
   "execution_count": null,
   "id": "25f1a16c",
   "metadata": {},
   "outputs": [],
   "source": []
  }
 ],
 "metadata": {
  "kernelspec": {
   "display_name": "Python 3 (ipykernel)",
   "language": "python",
   "name": "python3"
  },
  "language_info": {
   "codemirror_mode": {
    "name": "ipython",
    "version": 3
   },
   "file_extension": ".py",
   "mimetype": "text/x-python",
   "name": "python",
   "nbconvert_exporter": "python",
   "pygments_lexer": "ipython3",
   "version": "3.10.2"
  }
 },
 "nbformat": 4,
 "nbformat_minor": 5
}
